{
 "cells": [
  {
   "cell_type": "code",
   "execution_count": 28,
   "metadata": {},
   "outputs": [],
   "source": [
    "import turtle as tl\n",
    "pen = tl.Turtle()\n",
    "def draw_house(x,y):\n",
    "    pen.fillcolor(\"green\")\n",
    "    pen.begin_fill()\n",
    "    for i in range(2):\n",
    "        pen.fd(200)\n",
    "        pen.left(90)\n",
    "        pen.fd(300)\n",
    "        pen.left(90)\n",
    "    pen.end_fill()\n",
    "    pen.penup()\n",
    "    pen.goto(x,y)\n",
    "    pen.pendown()\n",
    "    pen.fillcolor(\"white\")\n",
    "    pen.begin_fill()\n",
    "    for i in range(2):\n",
    "        pen.fd(50)\n",
    "        pen.left(90)\n",
    "        pen.fd(100)\n",
    "        pen.left(90)\n",
    "    pen.end_fill()\n",
    "\n",
    "draw_house(75,100)\n",
    "pen.penup()\n",
    "pen.goto(200,0)\n",
    "pen.pendown()\n",
    "draw_house(275,100)\n",
    "pen.penup()\n",
    "pen.goto(0,300)\n",
    "pen.pendown()\n",
    "draw_house(75,400)\n",
    "pen.penup()\n",
    "pen.goto(200,300)\n",
    "pen.pendown()\n",
    "draw_house(275,400)\n",
    "tl.done()\n"
   ]
  }
 ],
 "metadata": {
  "kernelspec": {
   "display_name": "Python 3",
   "language": "python",
   "name": "python3"
  },
  "language_info": {
   "name": "python",
   "version": "3.10.4"
  },
  "orig_nbformat": 4
 },
 "nbformat": 4,
 "nbformat_minor": 2
}
