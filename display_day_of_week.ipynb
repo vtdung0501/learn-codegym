{
 "cells": [
  {
   "cell_type": "code",
   "execution_count": 9,
   "metadata": {},
   "outputs": [
    {
     "name": "stdout",
     "output_type": "stream",
     "text": [
      "Không phải một số\n"
     ]
    }
   ],
   "source": [
    "try:\n",
    "    num = int(input(\"Nhập số từ 0 - 7 tương ứng với các ngày trong tuần: \"))\n",
    "    if num == 1:\n",
    "        print(\"Thứ Hai\")\n",
    "    elif num == 2:\n",
    "        print(\"Thứ 3\")\n",
    "    elif num == 3:\n",
    "        print(\"Thứ 4\")\n",
    "    elif num == 4:\n",
    "        print(\"Thứ 5\")\n",
    "    elif num == 5:\n",
    "        print(\"Thứ 6\")\n",
    "    elif num == 6:\n",
    "        print(\"Thứ 7\")\n",
    "    elif num == 7:\n",
    "        print(\"Chủ nhật\")\n",
    "    else:\n",
    "        print(\"Error, out of range\")\n",
    "except:\n",
    "    print(\"Không phải một số\")"
   ]
  }
 ],
 "metadata": {
  "kernelspec": {
   "display_name": "Python 3",
   "language": "python",
   "name": "python3"
  },
  "language_info": {
   "codemirror_mode": {
    "name": "ipython",
    "version": 3
   },
   "file_extension": ".py",
   "mimetype": "text/x-python",
   "name": "python",
   "nbconvert_exporter": "python",
   "pygments_lexer": "ipython3",
   "version": "3.10.4"
  },
  "orig_nbformat": 4
 },
 "nbformat": 4,
 "nbformat_minor": 2
}
