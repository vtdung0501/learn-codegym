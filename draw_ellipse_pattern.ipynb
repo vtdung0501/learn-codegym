{
 "cells": [
  {
   "cell_type": "code",
   "execution_count": null,
   "metadata": {},
   "outputs": [],
   "source": [
    "import turtle as tl\n",
    "import random as rd\n",
    "pen = tl.Turtle()\n",
    "pen.pensize(3)\n",
    "pen.speed(20)\n",
    "num = int(input(\"Enter numbers you want: \"))\n",
    "def draw_ellipse():\n",
    "    for i in range(2):\n",
    "        pen.circle(90,90)\n",
    "        pen.circle(90//2,90)\n",
    "color = [\"blue\",\"red\",\"green\",\"yellow\",\"gray\"]\n",
    "count = 0\n",
    "while True:\n",
    "    pen.color(color[rd.randint(0,4)])\n",
    "    draw_ellipse()\n",
    "    pen.left(10)\n",
    "    count+=1\n",
    "    if count > num:\n",
    "        break\n",
    "tl.done()"
   ]
  }
 ],
 "metadata": {
  "kernelspec": {
   "display_name": "Python 3",
   "language": "python",
   "name": "python3"
  },
  "language_info": {
   "codemirror_mode": {
    "name": "ipython",
    "version": 3
   },
   "file_extension": ".py",
   "mimetype": "text/x-python",
   "name": "python",
   "nbconvert_exporter": "python",
   "pygments_lexer": "ipython3",
   "version": "3.10.4"
  },
  "orig_nbformat": 4
 },
 "nbformat": 4,
 "nbformat_minor": 2
}
