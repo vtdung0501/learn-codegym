{
 "cells": [
  {
   "cell_type": "code",
   "execution_count": 1,
   "metadata": {},
   "outputs": [
    {
     "name": "stdout",
     "output_type": "stream",
     "text": [
      "Original numbers:  7 5 3\n",
      "Sorted numbers:  3 5 7\n"
     ]
    }
   ],
   "source": [
    "def sort_numbers(num1, num2, num3):\n",
    "    temp = 0\n",
    "    if num2 < num1 and num2 < num3:\n",
    "            temp = num1\n",
    "            num1 = num2\n",
    "            num2 = temp\n",
    "    elif num3 < num1 and num3 < num2:\n",
    "        temp = num1\n",
    "        num1 = num3\n",
    "        num3 = temp\n",
    "    if num3 < num2:\n",
    "        temp = num2\n",
    "        num2 = num3\n",
    "        num3 = temp\n",
    "    return (num1, num2, num3)\n",
    "x = int(input(\"Enter first number: \"))\n",
    "y = int(input(\"Enter second number: \"))\n",
    "z = int(input(\"Enter third number: \"))\n",
    "a, b, c = sort_numbers(x, y, z)\n",
    "print(\"Original numbers: \", x, y, z)\n",
    "print(\"Sorted numbers: \", a, b, c)"
   ]
  }
 ],
 "metadata": {
  "kernelspec": {
   "display_name": "Python 3",
   "language": "python",
   "name": "python3"
  },
  "language_info": {
   "codemirror_mode": {
    "name": "ipython",
    "version": 3
   },
   "file_extension": ".py",
   "mimetype": "text/x-python",
   "name": "python",
   "nbconvert_exporter": "python",
   "pygments_lexer": "ipython3",
   "version": "3.10.4"
  },
  "orig_nbformat": 4
 },
 "nbformat": 4,
 "nbformat_minor": 2
}
