{
 "cells": [
  {
   "cell_type": "code",
   "execution_count": 33,
   "metadata": {},
   "outputs": [],
   "source": [
    "import turtle as tl\n",
    "screen = tl.Screen()\n",
    "screen.bgcolor(\"light blue\")\n",
    "pen = tl.Turtle()\n",
    "distance = int(input(\"Enter the distance you want: \"))\n",
    "d=0\n",
    "pen.position()\n",
    "while True:\n",
    "    pen.forward(d)\n",
    "    pen.left(10)\n",
    "    d+=0.1\n",
    "    if tl.distance(pen.position()) > distance:\n",
    "        break\n",
    "tl.done()"
   ]
  }
 ],
 "metadata": {
  "kernelspec": {
   "display_name": "Python 3",
   "language": "python",
   "name": "python3"
  },
  "language_info": {
   "codemirror_mode": {
    "name": "ipython",
    "version": 3
   },
   "file_extension": ".py",
   "mimetype": "text/x-python",
   "name": "python",
   "nbconvert_exporter": "python",
   "pygments_lexer": "ipython3",
   "version": "3.10.4"
  },
  "orig_nbformat": 4
 },
 "nbformat": 4,
 "nbformat_minor": 2
}
