{
 "cells": [
  {
   "cell_type": "code",
   "execution_count": 24,
   "metadata": {},
   "outputs": [
    {
     "name": "stdout",
     "output_type": "stream",
     "text": [
      "Rùa den thắng\n"
     ]
    }
   ],
   "source": [
    "import turtle as t\n",
    "import random\n",
    "# Tạo khung cảnh và vẽ các cột mốc bên trái đường đua\n",
    "screen = t.Screen()\n",
    "screen.setup(height=500, width=600)\n",
    "pen = t.Turtle(visible=False)\n",
    "pen.penup()\n",
    "pen.speed(0)\n",
    "pen.goto(-250, 200)\n",
    "for i in range(21):\n",
    "    pen.write(i)\n",
    "    pen.forward(25)\n",
    "\n",
    "# Vẽ các đường đứt đoạn trên đường đua và\n",
    "# đánh dấu các cột mốc bên phải đường đua\n",
    "x = -250\n",
    "pen.goto(-250, 200)\n",
    "pen.right(90)\n",
    "for i in range(21):\n",
    "    for j in range(10):\n",
    "        pen.pendown()\n",
    "        pen.forward(20)\n",
    "        pen.penup()\n",
    "        pen.forward(10)\n",
    "    pen.penup()\n",
    "    pen.forward(5)\n",
    "    pen.write(i)\n",
    "    pen.goto(x + (i + 1) * 25, 200)\n",
    "all_turtles = []\n",
    "y_position = [160, 100, 40, -20]\n",
    "colors = ['red', 'green', 'blue', 'black']\n",
    "for turtle in range(0, 4):\n",
    "    turtles = t.Turtle(shape=\"turtle\")\n",
    "    turtles.penup()\n",
    "    # Di chuyển rùa về vị trí ban đầu,\n",
    "    # bên trái cùng của đường đua\n",
    "    turtles.goto(x=-250, y=y_position[turtle])\n",
    "    # Màu của rùa\n",
    "    turtles.color(colors[turtle])\n",
    "    for i in range(5):\n",
    "        turtles.left(72)\n",
    "    # Lưu vào list\n",
    "    all_turtles.append(turtles)\n",
    "def random_walk(turtles):\n",
    "    global run\n",
    "    for turtle in turtles:\n",
    "        turtle.forward(random.randint(1, 10))\n",
    "        # Kiểm tra điều kiện cán đích\n",
    "        # Khi 1 con cán đích thì dừng lại\n",
    "        if turtle.xcor() > 250:\n",
    "            run = False\n",
    "            if turtles.index(turtle) == 0:\n",
    "                print(\"Rùa đỏ thắng\")\n",
    "            elif turtles.index(turtle) == 1:\n",
    "                print(\"Rùa xanh lục thắng\")\n",
    "            elif turtles.index(turtle) == 2:\n",
    "                print(\"Rùa xanh lam thắng\")\n",
    "            elif turtles.index(turtle) == 3:\n",
    "                print(\"Rùa den thắng\")\n",
    "run = True\n",
    "while run:\n",
    "    random_walk(all_turtles)\n",
    "screen.exitonclick()"
   ]
  }
 ],
 "metadata": {
  "kernelspec": {
   "display_name": "Python 3",
   "language": "python",
   "name": "python3"
  },
  "language_info": {
   "codemirror_mode": {
    "name": "ipython",
    "version": 3
   },
   "file_extension": ".py",
   "mimetype": "text/x-python",
   "name": "python",
   "nbconvert_exporter": "python",
   "pygments_lexer": "ipython3",
   "version": "3.10.4"
  },
  "orig_nbformat": 4
 },
 "nbformat": 4,
 "nbformat_minor": 2
}
