{
 "cells": [
  {
   "cell_type": "code",
   "execution_count": 1,
   "metadata": {},
   "outputs": [
    {
     "name": "stdout",
     "output_type": "stream",
     "text": [
      "Buzz\n",
      "FizzBuzz\n",
      "Fizz\n",
      "Buzz\n",
      "FizzBuzz\n",
      "FizzBuzz\n",
      "Buzz\n",
      "Fizz\n",
      "FizzBuzz\n",
      "Buzz\n",
      "FizzBuzz\n",
      "FizzBuzz\n",
      "15\n",
      "FizzBuzz\n",
      "FizzBuzz\n",
      "Buzz\n",
      "FizzBuzz\n"
     ]
    }
   ],
   "source": [
    "num = input(\"Enter two random number, separated by commas: \")\n",
    "try:\n",
    "    num_1 = int(num.split(\",\")[0])\n",
    "    num_2 = int(num.split(\",\")[1])\n",
    "    if num_1 > num_2:\n",
    "        print(\"Cần nhập số trước nhỏ hơn số sau\")\n",
    "    else:\n",
    "        for i in range(num_1,num_2 + 1):\n",
    "            if i % 3 and i % 5:\n",
    "                print(\"FizzBuzz\")\n",
    "            elif i%3:\n",
    "                print(\"Fizz\")\n",
    "            elif i%5:\n",
    "                print(\"Buzz\")\n",
    "            else:\n",
    "                print(i)\n",
    "except:\n",
    "    print(\"Không hợp lệ\")"
   ]
  }
 ],
 "metadata": {
  "kernelspec": {
   "display_name": "Python 3",
   "language": "python",
   "name": "python3"
  },
  "language_info": {
   "codemirror_mode": {
    "name": "ipython",
    "version": 3
   },
   "file_extension": ".py",
   "mimetype": "text/x-python",
   "name": "python",
   "nbconvert_exporter": "python",
   "pygments_lexer": "ipython3",
   "version": "3.10.4"
  },
  "orig_nbformat": 4
 },
 "nbformat": 4,
 "nbformat_minor": 2
}
