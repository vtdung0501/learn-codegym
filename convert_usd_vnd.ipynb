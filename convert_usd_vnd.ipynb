{
 "cells": [
  {
   "cell_type": "code",
   "execution_count": 2,
   "metadata": {},
   "outputs": [
    {
     "name": "stdout",
     "output_type": "stream",
     "text": [
      "1000 USD bằng 23000640.0 VND\n"
     ]
    }
   ],
   "source": [
    "usd = int(input(\"Nhập số USD cần đổi: \"))\n",
    "ratio = float(input(\"Nhập tỉ giá: \"))\n",
    "vnd = usd*ratio\n",
    "print(f'{usd} USD bằng {vnd} VND')"
   ]
  }
 ],
 "metadata": {
  "kernelspec": {
   "display_name": "Python 3",
   "language": "python",
   "name": "python3"
  },
  "language_info": {
   "codemirror_mode": {
    "name": "ipython",
    "version": 3
   },
   "file_extension": ".py",
   "mimetype": "text/x-python",
   "name": "python",
   "nbconvert_exporter": "python",
   "pygments_lexer": "ipython3",
   "version": "3.10.4"
  },
  "orig_nbformat": 4,
  "vscode": {
   "interpreter": {
    "hash": "4e4c4528611270940a17f960982dd19717385b2491587e4df5cdee527a713aa6"
   }
  }
 },
 "nbformat": 4,
 "nbformat_minor": 2
}
