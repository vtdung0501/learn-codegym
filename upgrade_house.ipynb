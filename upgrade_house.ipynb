{
 "cells": [
  {
   "cell_type": "code",
   "execution_count": 53,
   "metadata": {},
   "outputs": [],
   "source": [
    "import turtle as tl\n",
    "import math\n",
    "screen = tl.Screen()\n",
    "screen.bgcolor(\"light blue\")\n",
    "pen = tl.Turtle()\n",
    "pen.pensize(2)\n",
    "def draw_rectangle(col,w,h):\n",
    "    pen.color(col)\n",
    "    for i in range(0,2):\n",
    "        pen.forward(w)\n",
    "        pen.left(90)\n",
    "        pen.forward(h)\n",
    "        pen.left(90)\n",
    "draw_rectangle(\"blue\",300,200)\n",
    "pen.penup()\n",
    "pen.goto(100,0)\n",
    "pen.pendown()\n",
    "draw_rectangle(\"blue\",100,150)\n",
    "pen.penup()\n",
    "pen.goto(200,200)\n",
    "pen.pendown()\n",
    "draw_rectangle(\"blue\",50,150)\n",
    "pen.penup()\n",
    "pen.goto(0,200)\n",
    "pen.pendown()\n",
    "pen.right(60)\n",
    "pen.circle(100,steps=3)\n",
    "\n",
    "pen.penup()\n",
    "pen.goto(-120,-100)\n",
    "pen.pendown()\n",
    "pen.fillcolor(\"brown\")\n",
    "pen.begin_fill()\n",
    "pen.right(120)\n",
    "draw_rectangle(\"brown\",20,100)\n",
    "pen.end_fill()\n",
    "\n",
    "pen.penup()\n",
    "pen.goto(-225,-100)\n",
    "pen.pendown()\n",
    "pen.left(180)\n",
    "pen.fillcolor(\"green\")\n",
    "pen.begin_fill()\n",
    "pen.color(\"green\")\n",
    "pen.forward(200)\n",
    "pen.left(135)\n",
    "pen.forward(200/math.sqrt(2))\n",
    "pen.left(90)\n",
    "pen.forward(200/math.sqrt(2))\n",
    "for i in range(1,3):\n",
    "    pen.penup()\n",
    "    pen.goto(-225,-100 +40*i)\n",
    "    pen.pendown()\n",
    "    pen.left(135)\n",
    "    pen.forward(200)\n",
    "    pen.left(135)\n",
    "    pen.forward(200/math.sqrt(2))\n",
    "    pen.left(90)\n",
    "    pen.forward(200/math.sqrt(2))\n",
    "pen.end_fill()\n",
    "tl.done()"
   ]
  }
 ],
 "metadata": {
  "kernelspec": {
   "display_name": "Python 3",
   "language": "python",
   "name": "python3"
  },
  "language_info": {
   "codemirror_mode": {
    "name": "ipython",
    "version": 3
   },
   "file_extension": ".py",
   "mimetype": "text/x-python",
   "name": "python",
   "nbconvert_exporter": "python",
   "pygments_lexer": "ipython3",
   "version": "3.10.4"
  },
  "orig_nbformat": 4,
  "vscode": {
   "interpreter": {
    "hash": "4e4c4528611270940a17f960982dd19717385b2491587e4df5cdee527a713aa6"
   }
  }
 },
 "nbformat": 4,
 "nbformat_minor": 2
}
