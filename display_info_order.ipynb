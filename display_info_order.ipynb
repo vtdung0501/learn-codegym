{
 "cells": [
  {
   "cell_type": "code",
   "execution_count": null,
   "metadata": {},
   "outputs": [],
   "source": [
    "num = int(input(\"Give me a price: \"))\n",
    "if num >= 150:\n",
    "\tprint(\"Total: \", num - 50)\n",
    "elif num >= 100:\n",
    "\tprint(\"Total: \", num - 25)\n",
    "elif num >= 75:\n",
    "\tprint(\"Total: \", num - 15)\n",
    "else:\n",
    "    print(\"Total: \", num)"
   ]
  }
 ],
 "metadata": {
  "language_info": {
   "name": "python"
  },
  "orig_nbformat": 4
 },
 "nbformat": 4,
 "nbformat_minor": 2
}
