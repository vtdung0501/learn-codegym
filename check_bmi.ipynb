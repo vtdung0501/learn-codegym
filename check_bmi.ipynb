{
 "cells": [
  {
   "cell_type": "code",
   "execution_count": null,
   "metadata": {},
   "outputs": [],
   "source": [
    "try:\n",
    "    height = int(input(\"Enter your height: \"))\n",
    "    weight = int(input(\"Enter your weight: \"))\n",
    "    bmi = weight/(height**2)\n",
    "    if bmi < 16:\n",
    "        print(\"Gầy cấp độ III\")\n",
    "    elif 16 <= bmi < 17:\n",
    "        print(\"Gầy cấp độ II\")\n",
    "    elif 17 <= bmi < 18.5:\n",
    "        print(\"Gầy cấp độ I\")\n",
    "    elif 18.5 <= bmi < 25:\n",
    "        print(\"Bình thường\")\n",
    "    elif 25 <= bmi < 30:\n",
    "        print(\"Thừa cân\")\n",
    "    elif 30 <= bmi < 35:\n",
    "        print(\"Béo phì cấp độ I\")\n",
    "    elif 35 <= bmi < 40:\n",
    "        print(\"Béo phì cấp độ II\")\n",
    "    else:\n",
    "        print(\"Béo phì cấp độ III\")\n",
    "    \n",
    "except:\n",
    "    print(\"Không hợp lệ\")\n"
   ]
  }
 ],
 "metadata": {
  "language_info": {
   "name": "python"
  },
  "orig_nbformat": 4
 },
 "nbformat": 4,
 "nbformat_minor": 2
}
